{
  "nbformat": 4,
  "nbformat_minor": 0,
  "metadata": {
    "colab": {
      "name": "PyTorch-Part 2 : Tensors Operations.ipynb",
      "provenance": [],
      "collapsed_sections": [],
      "authorship_tag": "ABX9TyN0Lc6PfwR+8DFvhcm8rBgg",
      "include_colab_link": true
    },
    "kernelspec": {
      "name": "python3",
      "display_name": "Python 3"
    }
  },
  "cells": [
    {
      "cell_type": "markdown",
      "metadata": {
        "id": "view-in-github",
        "colab_type": "text"
      },
      "source": [
        "<a href=\"https://colab.research.google.com/github/diazonic/pytorch/blob/master/PyTorch_Part_2_Tensors_Operations.ipynb\" target=\"_parent\"><img src=\"https://colab.research.google.com/assets/colab-badge.svg\" alt=\"Open In Colab\"/></a>"
      ]
    },
    {
      "cell_type": "markdown",
      "metadata": {
        "id": "BaahqwhH-aUm",
        "colab_type": "text"
      },
      "source": [
        "\n",
        "For more info on the operations of Tensors\n",
        "\n",
        "\n",
        "https://pytorch.org/docs/stable/tensors.html"
      ]
    },
    {
      "cell_type": "markdown",
      "metadata": {
        "id": "mH9IafuFQeJc",
        "colab_type": "text"
      },
      "source": [
        "# 1. Stride Operation"
      ]
    },
    {
      "cell_type": "code",
      "metadata": {
        "id": "dYfvQY6FpDBr",
        "colab_type": "code",
        "outputId": "04eabbf5-95a7-4c6a-9d54-21bcf594a78d",
        "colab": {
          "base_uri": "https://localhost:8080/",
          "height": 72
        }
      },
      "source": [
        "import torch\n",
        "t0 = torch.randn(3,2)\n",
        "t0"
      ],
      "execution_count": 0,
      "outputs": [
        {
          "output_type": "execute_result",
          "data": {
            "text/plain": [
              "tensor([[-0.1868, -0.8337],\n",
              "        [-0.0640,  0.1071],\n",
              "        [-2.0111,  0.9209]])"
            ]
          },
          "metadata": {
            "tags": []
          },
          "execution_count": 1
        }
      ]
    },
    {
      "cell_type": "code",
      "metadata": {
        "id": "ceaHHBpyLi5Z",
        "colab_type": "code",
        "outputId": "feb64962-d057-4664-f6bf-c42a3a5102df",
        "colab": {
          "base_uri": "https://localhost:8080/",
          "height": 35
        }
      },
      "source": [
        "t0.stride()\n",
        "#https://stackoverflow.com/questions/56659255/what-does-layout-torch-strided-mean"
      ],
      "execution_count": 0,
      "outputs": [
        {
          "output_type": "execute_result",
          "data": {
            "text/plain": [
              "(2, 1)"
            ]
          },
          "metadata": {
            "tags": []
          },
          "execution_count": 16
        }
      ]
    },
    {
      "cell_type": "code",
      "metadata": {
        "id": "eB5LkgGiqmNA",
        "colab_type": "code",
        "outputId": "dd901260-3a2e-484b-c515-bb5b1be4853f",
        "colab": {
          "base_uri": "https://localhost:8080/",
          "height": 35
        }
      },
      "source": [
        "t1 = torch.as_strided(t0,(1,2),(4,2),1)\n",
        "t1\n",
        "#Taking value from index 1 and jumping 4 steps after it to take second value from index 5"
      ],
      "execution_count": 0,
      "outputs": [
        {
          "output_type": "execute_result",
          "data": {
            "text/plain": [
              "tensor([[-0.8337,  0.1071]])"
            ]
          },
          "metadata": {
            "tags": []
          },
          "execution_count": 120
        }
      ]
    },
    {
      "cell_type": "code",
      "metadata": {
        "id": "ntF69Oj1qrBm",
        "colab_type": "code",
        "outputId": "40be8117-7a9d-4c3f-a6d4-30c765089f09",
        "colab": {
          "base_uri": "https://localhost:8080/",
          "height": 54
        }
      },
      "source": [
        "t2 = torch.as_strided(t0,(2,2),(3,2),0)\n",
        "t2\n",
        "# Taking the stride as (3,2) . It starts from 0th index which is 0.6163, then on index 1 we need to put the value by taking stride as 2 which gives the\n",
        "# value at index 3 which is -0.3774. Next taking the stride value of 3 from index 1 which will be -.07161 forms the next number. Now from -0.7161 take, 2 values making\n",
        "# 0.5596 as last number"
      ],
      "execution_count": 0,
      "outputs": [
        {
          "output_type": "execute_result",
          "data": {
            "text/plain": [
              "tensor([[-0.1868, -0.0640],\n",
              "        [ 0.1071,  0.9209]])"
            ]
          },
          "metadata": {
            "tags": []
          },
          "execution_count": 121
        }
      ]
    },
    {
      "cell_type": "code",
      "metadata": {
        "id": "1zjf8x2eqrkY",
        "colab_type": "code",
        "outputId": "d7576dba-b817-4de0-8ff7-690fdb0f310c",
        "colab": {
          "base_uri": "https://localhost:8080/",
          "height": 190
        }
      },
      "source": [
        "t3 = torch.as_strided(t0,(3,3),(1,2))\n",
        "t3"
      ],
      "execution_count": 0,
      "outputs": [
        {
          "output_type": "error",
          "ename": "RuntimeError",
          "evalue": "ignored",
          "traceback": [
            "\u001b[0;31m---------------------------------------------------------------------------\u001b[0m",
            "\u001b[0;31mRuntimeError\u001b[0m                              Traceback (most recent call last)",
            "\u001b[0;32m<ipython-input-61-0becf82eccf6>\u001b[0m in \u001b[0;36m<module>\u001b[0;34m()\u001b[0m\n\u001b[0;32m----> 1\u001b[0;31m \u001b[0mt3\u001b[0m \u001b[0;34m=\u001b[0m \u001b[0mtorch\u001b[0m\u001b[0;34m.\u001b[0m\u001b[0mas_strided\u001b[0m\u001b[0;34m(\u001b[0m\u001b[0mt0\u001b[0m\u001b[0;34m,\u001b[0m\u001b[0;34m(\u001b[0m\u001b[0;36m3\u001b[0m\u001b[0;34m,\u001b[0m\u001b[0;36m3\u001b[0m\u001b[0;34m)\u001b[0m\u001b[0;34m,\u001b[0m\u001b[0;34m(\u001b[0m\u001b[0;36m1\u001b[0m\u001b[0;34m,\u001b[0m\u001b[0;36m2\u001b[0m\u001b[0;34m)\u001b[0m\u001b[0;34m)\u001b[0m\u001b[0;34m\u001b[0m\u001b[0;34m\u001b[0m\u001b[0m\n\u001b[0m\u001b[1;32m      2\u001b[0m \u001b[0mt3\u001b[0m\u001b[0;34m\u001b[0m\u001b[0;34m\u001b[0m\u001b[0m\n",
            "\u001b[0;31mRuntimeError\u001b[0m: setStorage: sizes [3, 3], strides [1, 2], and storage offset 0 requiring a storage size of 7 are out of bounds for storage with numel 6"
          ]
        }
      ]
    },
    {
      "cell_type": "markdown",
      "metadata": {
        "id": "pprB_dc4QSAK",
        "colab_type": "text"
      },
      "source": [
        "# **2.Quantized Tensor**\n",
        "\n",
        "Scaling Tensors in the same way"
      ]
    },
    {
      "cell_type": "code",
      "metadata": {
        "id": "sDe9d_2xRNaT",
        "colab_type": "code",
        "outputId": "a5a5e288-2ca3-4793-ffcf-ada4f79cc129",
        "colab": {
          "base_uri": "https://localhost:8080/",
          "height": 35
        }
      },
      "source": [
        "torch.quantize_per_tensor(torch.tensor([-0.5, 0.5, 1.0, 2.0]), 0.2, 5, torch.quint8).int_repr()"
      ],
      "execution_count": 0,
      "outputs": [
        {
          "output_type": "execute_result",
          "data": {
            "text/plain": [
              "tensor([ 2,  8, 10, 15], dtype=torch.uint8)"
            ]
          },
          "metadata": {
            "tags": []
          },
          "execution_count": 77
        }
      ]
    },
    {
      "cell_type": "code",
      "metadata": {
        "id": "eQTtgSIYSg9L",
        "colab_type": "code",
        "outputId": "bc92620d-ba95-44c5-b687-970b858bcfd2",
        "colab": {
          "base_uri": "https://localhost:8080/",
          "height": 35
        }
      },
      "source": [
        "torch.quantize_per_tensor(torch.tensor([-5.0, 50.0, -10.0, 20.0]), 0.2, 5, torch.quint8).int_repr()"
      ],
      "execution_count": 0,
      "outputs": [
        {
          "output_type": "execute_result",
          "data": {
            "text/plain": [
              "tensor([  0, 255,   0, 105], dtype=torch.uint8)"
            ]
          },
          "metadata": {
            "tags": []
          },
          "execution_count": 127
        }
      ]
    },
    {
      "cell_type": "code",
      "metadata": {
        "id": "NL6WQF4gROPP",
        "colab_type": "code",
        "outputId": "9d2fa66d-d431-461b-e143-c2bf3778330c",
        "colab": {
          "base_uri": "https://localhost:8080/",
          "height": 172
        }
      },
      "source": [
        "torch.quantize_per_tensor(torch.tensor([-15, 5, -10, 20]), 0.2, 100, torch.quint8).int_repr()"
      ],
      "execution_count": 0,
      "outputs": [
        {
          "output_type": "error",
          "ename": "RuntimeError",
          "evalue": "ignored",
          "traceback": [
            "\u001b[0;31m---------------------------------------------------------------------------\u001b[0m",
            "\u001b[0;31mRuntimeError\u001b[0m                              Traceback (most recent call last)",
            "\u001b[0;32m<ipython-input-70-78d3f165fac4>\u001b[0m in \u001b[0;36m<module>\u001b[0;34m()\u001b[0m\n\u001b[0;32m----> 1\u001b[0;31m \u001b[0mtorch\u001b[0m\u001b[0;34m.\u001b[0m\u001b[0mquantize_per_tensor\u001b[0m\u001b[0;34m(\u001b[0m\u001b[0mtorch\u001b[0m\u001b[0;34m.\u001b[0m\u001b[0mtensor\u001b[0m\u001b[0;34m(\u001b[0m\u001b[0;34m[\u001b[0m\u001b[0;34m-\u001b[0m\u001b[0;36m15\u001b[0m\u001b[0;34m,\u001b[0m \u001b[0;36m5\u001b[0m\u001b[0;34m,\u001b[0m \u001b[0;34m-\u001b[0m\u001b[0;36m10\u001b[0m\u001b[0;34m,\u001b[0m \u001b[0;36m20\u001b[0m\u001b[0;34m]\u001b[0m\u001b[0;34m)\u001b[0m\u001b[0;34m,\u001b[0m \u001b[0;36m0.2\u001b[0m\u001b[0;34m,\u001b[0m \u001b[0;36m100\u001b[0m\u001b[0;34m,\u001b[0m \u001b[0mtorch\u001b[0m\u001b[0;34m.\u001b[0m\u001b[0mquint8\u001b[0m\u001b[0;34m)\u001b[0m\u001b[0;34m.\u001b[0m\u001b[0mint_repr\u001b[0m\u001b[0;34m(\u001b[0m\u001b[0;34m)\u001b[0m\u001b[0;34m\u001b[0m\u001b[0;34m\u001b[0m\u001b[0m\n\u001b[0m",
            "\u001b[0;31mRuntimeError\u001b[0m: quantize only works on Float Tensor."
          ]
        }
      ]
    },
    {
      "cell_type": "markdown",
      "metadata": {
        "id": "egzhH13NSe5d",
        "colab_type": "text"
      },
      "source": [
        "# **3. Non Zero Index Tensor**"
      ]
    },
    {
      "cell_type": "code",
      "metadata": {
        "id": "h4la9yWFTn5i",
        "colab_type": "code",
        "outputId": "fefb0bdc-0655-4fcc-d77e-807087335875",
        "colab": {
          "base_uri": "https://localhost:8080/",
          "height": 108
        }
      },
      "source": [
        "torch.nonzero(torch.tensor([1,2,3,0,6,0,9.8]))"
      ],
      "execution_count": 0,
      "outputs": [
        {
          "output_type": "execute_result",
          "data": {
            "text/plain": [
              "tensor([[0],\n",
              "        [1],\n",
              "        [2],\n",
              "        [4],\n",
              "        [6]])"
            ]
          },
          "metadata": {
            "tags": []
          },
          "execution_count": 85
        }
      ]
    },
    {
      "cell_type": "code",
      "metadata": {
        "id": "PPnBiFylTooT",
        "colab_type": "code",
        "outputId": "885adc3f-d9cd-4c9a-a47e-f0f6f43bb1e9",
        "colab": {
          "base_uri": "https://localhost:8080/",
          "height": 145
        }
      },
      "source": [
        "torch.nonzero(torch.tensor([[1,0,0,0],\n",
        "                           [1,0,0,1]]))"
      ],
      "execution_count": 0,
      "outputs": [
        {
          "output_type": "stream",
          "text": [
            "/pytorch/torch/csrc/utils/python_arg_parser.cpp:756: UserWarning: This overload of nonzero is deprecated:\n",
            "\tnonzero(Tensor input, *, Tensor out)\n",
            "Consider using one of the following signatures instead:\n",
            "\tnonzero(Tensor input, *, bool as_tuple)\n"
          ],
          "name": "stderr"
        },
        {
          "output_type": "execute_result",
          "data": {
            "text/plain": [
              "tensor([[0, 0],\n",
              "        [1, 0],\n",
              "        [1, 3]])"
            ]
          },
          "metadata": {
            "tags": []
          },
          "execution_count": 128
        }
      ]
    },
    {
      "cell_type": "code",
      "metadata": {
        "id": "fw_mfILaT-9r",
        "colab_type": "code",
        "outputId": "e3643c09-917f-4af8-e709-7ba99b3f9783",
        "colab": {
          "base_uri": "https://localhost:8080/",
          "height": 54
        }
      },
      "source": [
        "torch.nonzero(torch.tensor([ord('A'),0,1]))"
      ],
      "execution_count": 0,
      "outputs": [
        {
          "output_type": "execute_result",
          "data": {
            "text/plain": [
              "tensor([[0],\n",
              "        [2]])"
            ]
          },
          "metadata": {
            "tags": []
          },
          "execution_count": 134
        }
      ]
    },
    {
      "cell_type": "code",
      "metadata": {
        "id": "GNxENuJVVD3m",
        "colab_type": "code",
        "outputId": "df5af354-6ca5-4e60-b9f8-6f32a955a436",
        "colab": {
          "base_uri": "https://localhost:8080/",
          "height": 35
        }
      },
      "source": [
        "ord('A')"
      ],
      "execution_count": 0,
      "outputs": [
        {
          "output_type": "execute_result",
          "data": {
            "text/plain": [
              "65"
            ]
          },
          "metadata": {
            "tags": []
          },
          "execution_count": 133
        }
      ]
    },
    {
      "cell_type": "markdown",
      "metadata": {
        "id": "ifyEVo1CUJFi",
        "colab_type": "text"
      },
      "source": [
        "# **4. Condition on Tensor using where**"
      ]
    },
    {
      "cell_type": "code",
      "metadata": {
        "id": "-x0zg1H7U8o6",
        "colab_type": "code",
        "outputId": "1e3b8370-23be-41b2-ff85-97149524de88",
        "colab": {
          "base_uri": "https://localhost:8080/",
          "height": 90
        }
      },
      "source": [
        "x = 12.5*torch.randn(4,5)\n",
        "y = torch.zeros(1)\n",
        "x"
      ],
      "execution_count": 0,
      "outputs": [
        {
          "output_type": "execute_result",
          "data": {
            "text/plain": [
              "tensor([[ -3.9482,  -9.9197,   1.3945,  13.3218, -15.9004],\n",
              "        [ -9.2214,  21.2780,  -0.4671,  -2.4064,   5.6129],\n",
              "        [-14.5062,  26.1567,   4.9364,   5.1095,  10.4315],\n",
              "        [ -3.5484,  22.1428,   0.9145,  -1.0481, -14.0949]])"
            ]
          },
          "metadata": {
            "tags": []
          },
          "execution_count": 135
        }
      ]
    },
    {
      "cell_type": "code",
      "metadata": {
        "id": "HpihEqMuVGjq",
        "colab_type": "code",
        "outputId": "6dbcf3e5-e13f-4f21-fc09-4f01f4078e1f",
        "colab": {
          "base_uri": "https://localhost:8080/",
          "height": 90
        }
      },
      "source": [
        "torch.where(x>0,x,y)\n",
        "# Accepting only positive value, negative values are replaced with zeros"
      ],
      "execution_count": 0,
      "outputs": [
        {
          "output_type": "execute_result",
          "data": {
            "text/plain": [
              "tensor([[ 0.0000,  0.0000,  1.3945, 13.3218,  0.0000],\n",
              "        [ 0.0000, 21.2780,  0.0000,  0.0000,  5.6129],\n",
              "        [ 0.0000, 26.1567,  4.9364,  5.1095, 10.4315],\n",
              "        [ 0.0000, 22.1428,  0.9145,  0.0000,  0.0000]])"
            ]
          },
          "metadata": {
            "tags": []
          },
          "execution_count": 136
        }
      ]
    },
    {
      "cell_type": "code",
      "metadata": {
        "id": "1l8VEshCWLpH",
        "colab_type": "code",
        "outputId": "369035c2-795a-445a-a2b3-247e1e53f0d5",
        "colab": {
          "base_uri": "https://localhost:8080/",
          "height": 90
        }
      },
      "source": [
        "torch.where(x>0,x,torch.round(x))\n",
        "# All negative values to be rounded to nearest Integer"
      ],
      "execution_count": 0,
      "outputs": [
        {
          "output_type": "execute_result",
          "data": {
            "text/plain": [
              "tensor([[ -4.0000, -10.0000,   1.3945,  13.3218, -16.0000],\n",
              "        [ -9.0000,  21.2780,  -0.0000,  -2.0000,   5.6129],\n",
              "        [-15.0000,  26.1567,   4.9364,   5.1095,  10.4315],\n",
              "        [ -4.0000,  22.1428,   0.9145,  -1.0000, -14.0000]])"
            ]
          },
          "metadata": {
            "tags": []
          },
          "execution_count": 138
        }
      ]
    },
    {
      "cell_type": "code",
      "metadata": {
        "id": "Z-elvzTKWkch",
        "colab_type": "code",
        "outputId": "7ad23552-e89b-44c1-f0e0-3a71249ef62c",
        "colab": {
          "base_uri": "https://localhost:8080/",
          "height": 35
        }
      },
      "source": [
        "round(9.2)"
      ],
      "execution_count": 0,
      "outputs": [
        {
          "output_type": "execute_result",
          "data": {
            "text/plain": [
              "9"
            ]
          },
          "metadata": {
            "tags": []
          },
          "execution_count": 125
        }
      ]
    },
    {
      "cell_type": "code",
      "metadata": {
        "id": "Ho0IS2BkVHoD",
        "colab_type": "code",
        "outputId": "28abf39a-e9da-4fda-b47a-238382d78c3c",
        "colab": {
          "base_uri": "https://localhost:8080/",
          "height": 190
        }
      },
      "source": [
        "torch.where((x>0.5) and (x <1.0),x,y)\n",
        "# Complex equation cant be accepted"
      ],
      "execution_count": 0,
      "outputs": [
        {
          "output_type": "error",
          "ename": "RuntimeError",
          "evalue": "ignored",
          "traceback": [
            "\u001b[0;31m---------------------------------------------------------------------------\u001b[0m",
            "\u001b[0;31mRuntimeError\u001b[0m                              Traceback (most recent call last)",
            "\u001b[0;32m<ipython-input-13-19614d3cb3e2>\u001b[0m in \u001b[0;36m<module>\u001b[0;34m()\u001b[0m\n\u001b[0;32m----> 1\u001b[0;31m \u001b[0mtorch\u001b[0m\u001b[0;34m.\u001b[0m\u001b[0mwhere\u001b[0m\u001b[0;34m(\u001b[0m\u001b[0;34m(\u001b[0m\u001b[0mx\u001b[0m\u001b[0;34m>\u001b[0m\u001b[0;36m0.5\u001b[0m\u001b[0;34m)\u001b[0m \u001b[0;32mand\u001b[0m \u001b[0;34m(\u001b[0m\u001b[0mx\u001b[0m \u001b[0;34m<\u001b[0m\u001b[0;36m1.0\u001b[0m\u001b[0;34m)\u001b[0m\u001b[0;34m,\u001b[0m\u001b[0mx\u001b[0m\u001b[0;34m,\u001b[0m\u001b[0my\u001b[0m\u001b[0;34m)\u001b[0m\u001b[0;34m\u001b[0m\u001b[0;34m\u001b[0m\u001b[0m\n\u001b[0m\u001b[1;32m      2\u001b[0m \u001b[0;31m# Complex equation cant be accepted\u001b[0m\u001b[0;34m\u001b[0m\u001b[0;34m\u001b[0m\u001b[0;34m\u001b[0m\u001b[0m\n",
            "\u001b[0;31mRuntimeError\u001b[0m: bool value of Tensor with more than one value is ambiguous"
          ]
        }
      ]
    },
    {
      "cell_type": "markdown",
      "metadata": {
        "id": "LPAdyBA8VIOE",
        "colab_type": "text"
      },
      "source": [
        "# **5. Scatter method**"
      ]
    },
    {
      "cell_type": "code",
      "metadata": {
        "id": "YGvxK7CG94Jd",
        "colab_type": "code",
        "outputId": "20459037-e32d-4e6d-f060-7942a2884c2b",
        "colab": {
          "base_uri": "https://localhost:8080/",
          "height": 72
        }
      },
      "source": [
        "torch.zeros(3, 5).scatter_(0, torch.tensor([[0,1,1,1,1],[1,0,1,0,0]]), 14)\n"
      ],
      "execution_count": 0,
      "outputs": [
        {
          "output_type": "execute_result",
          "data": {
            "text/plain": [
              "tensor([[14., 14.,  0., 14., 14.],\n",
              "        [14., 14., 14., 14., 14.],\n",
              "        [ 0.,  0.,  0.,  0.,  0.]])"
            ]
          },
          "metadata": {
            "tags": []
          },
          "execution_count": 112
        }
      ]
    },
    {
      "cell_type": "code",
      "metadata": {
        "id": "GFEwGBR5A-ON",
        "colab_type": "code",
        "outputId": "34f72b2b-75f6-4c4f-8606-786de1e15356",
        "colab": {
          "base_uri": "https://localhost:8080/",
          "height": 54
        }
      },
      "source": [
        "torch.zeros(2,2).scatter(1,torch.tensor([[1,0],[0,1]]),12)"
      ],
      "execution_count": 0,
      "outputs": [
        {
          "output_type": "execute_result",
          "data": {
            "text/plain": [
              "tensor([[12., 12.],\n",
              "        [12., 12.]])"
            ]
          },
          "metadata": {
            "tags": []
          },
          "execution_count": 74
        }
      ]
    },
    {
      "cell_type": "code",
      "metadata": {
        "id": "DvgNdhOSCUie",
        "colab_type": "code",
        "outputId": "c5f31754-7083-427a-9f45-52a352799df7",
        "colab": {
          "base_uri": "https://localhost:8080/",
          "height": 35
        }
      },
      "source": [
        "torch.zeros(1,2).scatter(0,torch.tensor([[0,0]]),12)"
      ],
      "execution_count": 0,
      "outputs": [
        {
          "output_type": "execute_result",
          "data": {
            "text/plain": [
              "tensor([[12., 12.]])"
            ]
          },
          "metadata": {
            "tags": []
          },
          "execution_count": 69
        }
      ]
    },
    {
      "cell_type": "code",
      "metadata": {
        "id": "baCy5NMVDS8g",
        "colab_type": "code",
        "colab": {}
      },
      "source": [
        ""
      ],
      "execution_count": 0,
      "outputs": []
    }
  ]
}